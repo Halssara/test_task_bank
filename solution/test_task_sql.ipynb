{
 "cells": [
  {
   "cell_type": "code",
   "execution_count": 1,
   "metadata": {
    "collapsed": true,
    "pycharm": {
     "name": "#%%\n"
    }
   },
   "outputs": [],
   "source": [
    "import pandas as pd"
   ]
  },
  {
   "cell_type": "code",
   "execution_count": 12,
   "outputs": [],
   "source": [
    "credit = pd.DataFrame(columns=['credit_id', 'issued_date'])\n",
    "credit.loc[len(credit)] = ['айдишник кредита', 'Как я понимаю дата выдачи кредита']\n",
    "credit_calculations = pd.DataFrame(columns=['credit_id', 'calculation_date', 'status'])\n",
    "credit_calculations.loc[len(credit_calculations)] = ['айдишник кредита', 'Дата статуса', 'статус кредита']"
   ],
   "metadata": {
    "collapsed": false,
    "pycharm": {
     "name": "#%%\n"
    }
   }
  },
  {
   "cell_type": "code",
   "execution_count": 16,
   "outputs": [],
   "source": [
    "employee = pd.DataFrame(columns=['id', 'hire_date', 'chief_id', 'salary'])\n",
    "employee.loc[len(employee)] = ['айдишник сотрудника', 'Дата начала работы', 'айдишник начальника', 'ЗП']"
   ],
   "metadata": {
    "collapsed": false,
    "pycharm": {
     "name": "#%%\n"
    }
   }
  },
  {
   "cell_type": "markdown",
   "source": [
    "### 1. Для каждого кредита, выданного в этом году, вывести количество дней, когда он находился в просрочке. Дано: таблица credit (credit_id, issued_date) и таблица с описанием каждого дня жизни кредита credit_calculations (credit_id, calculation_date, status). Поле status может принимать значения ACTIVE (займ активен), EXPIRED (займ в просрочке) и COMPLETED (займ закрылся, после этого записи в таблице credit_calculations по данному кредиту прекращаются)."
   ],
   "metadata": {
    "collapsed": false,
    "pycharm": {
     "name": "#%% md\n"
    }
   }
  },
  {
   "cell_type": "code",
   "execution_count": 20,
   "outputs": [
    {
     "data": {
      "text/plain": "           credit_id calculation_date          status\n0  Какой-то айдишник     Дата статуса  статус кредита",
      "text/html": "<div>\n<style scoped>\n    .dataframe tbody tr th:only-of-type {\n        vertical-align: middle;\n    }\n\n    .dataframe tbody tr th {\n        vertical-align: top;\n    }\n\n    .dataframe thead th {\n        text-align: right;\n    }\n</style>\n<table border=\"1\" class=\"dataframe\">\n  <thead>\n    <tr style=\"text-align: right;\">\n      <th></th>\n      <th>credit_id</th>\n      <th>calculation_date</th>\n      <th>status</th>\n    </tr>\n  </thead>\n  <tbody>\n    <tr>\n      <th>0</th>\n      <td>Какой-то айдишник</td>\n      <td>Дата статуса</td>\n      <td>статус кредита</td>\n    </tr>\n  </tbody>\n</table>\n</div>"
     },
     "metadata": {},
     "output_type": "display_data"
    }
   ],
   "source": [
    "display(credit_calculations)"
   ],
   "metadata": {
    "collapsed": false,
    "pycharm": {
     "name": "#%%\n"
    }
   }
  },
  {
   "cell_type": "code",
   "execution_count": 19,
   "outputs": [
    {
     "data": {
      "text/plain": "           credit_id                        issued_date\n0  Какой-то айдишник  Как я понимаю дата выдачи кредита",
      "text/html": "<div>\n<style scoped>\n    .dataframe tbody tr th:only-of-type {\n        vertical-align: middle;\n    }\n\n    .dataframe tbody tr th {\n        vertical-align: top;\n    }\n\n    .dataframe thead th {\n        text-align: right;\n    }\n</style>\n<table border=\"1\" class=\"dataframe\">\n  <thead>\n    <tr style=\"text-align: right;\">\n      <th></th>\n      <th>credit_id</th>\n      <th>issued_date</th>\n    </tr>\n  </thead>\n  <tbody>\n    <tr>\n      <th>0</th>\n      <td>Какой-то айдишник</td>\n      <td>Как я понимаю дата выдачи кредита</td>\n    </tr>\n  </tbody>\n</table>\n</div>"
     },
     "metadata": {},
     "output_type": "display_data"
    }
   ],
   "source": [
    "display(credit)"
   ],
   "metadata": {
    "collapsed": false,
    "pycharm": {
     "name": "#%%\n"
    }
   }
  },
  {
   "cell_type": "code",
   "execution_count": 15,
   "outputs": [
    {
     "data": {
      "text/plain": "\"\\nSELECT cr.credit_id,\\n       SUM(CASE WHEN calc.status = 'EXPIRED' THEN 1 ELSE 0 END) AS num_days_exp\\nFROM credit cr\\nJOIN credit_calculations calc\\nON 1 = 1\\nAND cr.credit_id = calc.credit_id\\nGROUP BY cr.credit_id\\n\""
     },
     "execution_count": 15,
     "metadata": {},
     "output_type": "execute_result"
    }
   ],
   "source": [
    "\"\"\"\n",
    "SELECT cr.credit_id,\n",
    "       SUM(CASE WHEN calc.status = 'EXPIRED' THEN 1 ELSE 0 END) AS num_days_exp\n",
    "FROM credit cr\n",
    "JOIN credit_calculations calc\n",
    "    ON 1 = 1\n",
    "    AND cr.credit_id = calc.credit_id\n",
    "    AND YEAR(cr.issued_date) = YEAR(CURDATE())\n",
    "GROUP BY cr.credit_id\n",
    "\"\"\""
   ],
   "metadata": {
    "collapsed": false,
    "pycharm": {
     "name": "#%%\n"
    }
   }
  },
  {
   "cell_type": "markdown",
   "source": [
    "### 2. Вывести сотрудников, которые работают в компании дольше, чем их непосредственные начальники. Дано: таблица employee (id, hire_date, chief_id, salary) со списком id сотрудников, их датой приёма на работу, id начальника (такой же сотрудник в таблице) и зарплатой."
   ],
   "metadata": {
    "collapsed": false,
    "pycharm": {
     "name": "#%% md\n"
    }
   }
  },
  {
   "cell_type": "code",
   "execution_count": 18,
   "outputs": [
    {
     "data": {
      "text/plain": "                  id           hire_date             chief_id salary\n0  Какой-то айдишник  Дата начала работы  айдишник начальника     ЗП",
      "text/html": "<div>\n<style scoped>\n    .dataframe tbody tr th:only-of-type {\n        vertical-align: middle;\n    }\n\n    .dataframe tbody tr th {\n        vertical-align: top;\n    }\n\n    .dataframe thead th {\n        text-align: right;\n    }\n</style>\n<table border=\"1\" class=\"dataframe\">\n  <thead>\n    <tr style=\"text-align: right;\">\n      <th></th>\n      <th>id</th>\n      <th>hire_date</th>\n      <th>chief_id</th>\n      <th>salary</th>\n    </tr>\n  </thead>\n  <tbody>\n    <tr>\n      <th>0</th>\n      <td>Какой-то айдишник</td>\n      <td>Дата начала работы</td>\n      <td>айдишник начальника</td>\n      <td>ЗП</td>\n    </tr>\n  </tbody>\n</table>\n</div>"
     },
     "metadata": {},
     "output_type": "display_data"
    }
   ],
   "source": [
    "display(employee)"
   ],
   "metadata": {
    "collapsed": false,
    "pycharm": {
     "name": "#%%\n"
    }
   }
  },
  {
   "cell_type": "code",
   "execution_count": null,
   "outputs": [],
   "source": [
    "\"\"\"\n",
    "SELECT emp.id,\n",
    "       emp.chief_id -- Опционально можно по условию не выводить\n",
    "FROM employee emp\n",
    "JOIN employee chief\n",
    "    ON 1 = 1\n",
    "    AND emp.chief_id = chief.id\n",
    "WHERE chief.hire_date > emp.hire_date\n",
    "\"\"\""
   ],
   "metadata": {
    "collapsed": false,
    "pycharm": {
     "name": "#%%\n"
    }
   }
  }
 ],
 "metadata": {
  "kernelspec": {
   "display_name": "Python 3",
   "language": "python",
   "name": "python3"
  },
  "language_info": {
   "codemirror_mode": {
    "name": "ipython",
    "version": 2
   },
   "file_extension": ".py",
   "mimetype": "text/x-python",
   "name": "python",
   "nbconvert_exporter": "python",
   "pygments_lexer": "ipython2",
   "version": "2.7.6"
  }
 },
 "nbformat": 4,
 "nbformat_minor": 0
}